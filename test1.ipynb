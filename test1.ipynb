{
 "cells": [
  {
   "cell_type": "code",
   "execution_count": 2,
   "metadata": {},
   "outputs": [],
   "source": [
    "import pandas as pd\n",
    "\n",
    "# ファイル1を読み込む\n",
    "df1 = pd.read_csv('array1.csv')\n",
    "\n",
    "# ファイル2を読み込む\n",
    "df2 = pd.read_csv('array2.csv')\n",
    "\n",
    "# ファイル1とファイル2を結合する\n",
    "merged_df = pd.concat([df1, df2])\n",
    "\n",
    "# 結合したデータを新しいcsvファイルに保存する\n",
    "merged_df.to_csv('merged_file.csv', index=False)\n"
   ]
  },
  {
   "cell_type": "code",
   "execution_count": 8,
   "metadata": {},
   "outputs": [
    {
     "name": "stdout",
     "output_type": "stream",
     "text": [
      "   0  1  2\n",
      "0  3  4  5\n",
      "1  4  5  6\n",
      "2  7  8  9\n",
      "3  5  6  7\n",
      "4  4  5  6\n",
      "5  7  8  9\n"
     ]
    }
   ],
   "source": [
    "import pandas as pd\n",
    "\n",
    "# ヘッダーなしでファイルを読み込む\n",
    "df1_no_header = pd.read_csv('array1.csv', header=None)\n",
    "df2_no_header = pd.read_csv('array2.csv', header=None)\n",
    "\n",
    "# ファイル1とファイル2を結合する\n",
    "merged_df_no_header = pd.concat([df1_no_header, df2_no_header], ignore_index=True)\n",
    "\n",
    "\n",
    "merged_df_no_header.to_csv('merged_file_no_header.csv', index=False)\n",
    "# Set the display options to show all rows and columns\n",
    "pd.set_option('display.max_rows', None)\n",
    "pd.set_option('display.max_columns', None)\n",
    "\n",
    "# Display all the data in the merged dataframe\n",
    "print(merged_df_no_header)\n",
    "\n",
    "# Reset the display options to the default values\n",
    "pd.reset_option('display.max_rows')\n",
    "pd.reset_option('display.max_columns')\n"
   ]
  }
 ],
 "metadata": {
  "kernelspec": {
   "display_name": "Python 3",
   "language": "python",
   "name": "python3"
  },
  "language_info": {
   "codemirror_mode": {
    "name": "ipython",
    "version": 3
   },
   "file_extension": ".py",
   "mimetype": "text/x-python",
   "name": "python",
   "nbconvert_exporter": "python",
   "pygments_lexer": "ipython3",
   "version": "3.11.2"
  }
 },
 "nbformat": 4,
 "nbformat_minor": 2
}
